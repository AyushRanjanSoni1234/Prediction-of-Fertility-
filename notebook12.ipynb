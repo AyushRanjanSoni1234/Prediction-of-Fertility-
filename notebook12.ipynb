{
 "cells": [
  {
   "cell_type": "code",
   "execution_count": 3,
   "metadata": {
    "cell_id": "00000-440c67e5-b3b9-4b94-87ec-ac5b2e35827a",
    "deepnote_cell_type": "code",
    "execution_millis": 1,
    "execution_start": 1607314790023,
    "output_cleared": false,
    "source_hash": "9b82ee11",
    "tags": []
   },
   "outputs": [],
   "source": [
    "import pandas as pd"
   ]
  },
  {
   "cell_type": "code",
   "execution_count": 4,
   "metadata": {
    "cell_id": "00001-6d364a84-35d7-4998-a119-763bb5fd86c4",
    "deepnote_cell_type": "code",
    "execution_millis": 0,
    "execution_start": 1607314790024,
    "output_cleared": false,
    "source_hash": "da64f763",
    "tags": []
   },
   "outputs": [],
   "source": [
    "data1=pd.read_csv('E:\\\\Python Lecture\\\\Python Projects\\\\second\\\\fertility.csv')"
   ]
  },
  {
   "cell_type": "code",
   "execution_count": 5,
   "metadata": {
    "cell_id": "00002-09f109e6-1027-4dc9-81ff-711821430acf",
    "deepnote_cell_type": "code",
    "execution_millis": 0,
    "execution_start": 1607314790025,
    "output_cleared": false,
    "source_hash": "5fdb7ed",
    "tags": []
   },
   "outputs": [
    {
     "data": {
      "text/plain": [
       "Index(['Season', 'Age', 'Childish diseases', 'Accident or serious trauma',\n",
       "       'Surgical intervention', 'High fevers in the last year',\n",
       "       'Frequency of alcohol consumption', 'Smoking habit',\n",
       "       'Number of hours spent sitting per day', 'Diagnosis'],\n",
       "      dtype='object')"
      ]
     },
     "execution_count": 5,
     "metadata": {},
     "output_type": "execute_result"
    }
   ],
   "source": [
    "data1.columns"
   ]
  },
  {
   "cell_type": "code",
   "execution_count": 7,
   "metadata": {
    "cell_id": "00003-b32b3394-8311-45dc-ad77-be6a6168c093",
    "deepnote_cell_type": "code",
    "execution_millis": 10,
    "execution_start": 1607314790046,
    "output_cleared": false,
    "source_hash": "e5fe3cb5",
    "tags": []
   },
   "outputs": [
    {
     "data": {
      "text/html": [
       "<div>\n",
       "<style scoped>\n",
       "    .dataframe tbody tr th:only-of-type {\n",
       "        vertical-align: middle;\n",
       "    }\n",
       "\n",
       "    .dataframe tbody tr th {\n",
       "        vertical-align: top;\n",
       "    }\n",
       "\n",
       "    .dataframe thead th {\n",
       "        text-align: right;\n",
       "    }\n",
       "</style>\n",
       "<table border=\"1\" class=\"dataframe\">\n",
       "  <thead>\n",
       "    <tr style=\"text-align: right;\">\n",
       "      <th></th>\n",
       "      <th>Season</th>\n",
       "      <th>Age</th>\n",
       "      <th>Childish diseases</th>\n",
       "      <th>Accident or serious trauma</th>\n",
       "      <th>Surgical intervention</th>\n",
       "      <th>High fevers in the last year</th>\n",
       "      <th>Frequency of alcohol consumption</th>\n",
       "      <th>Smoking habit</th>\n",
       "      <th>Number of hours spent sitting per day</th>\n",
       "      <th>Diagnosis</th>\n",
       "    </tr>\n",
       "  </thead>\n",
       "  <tbody>\n",
       "    <tr>\n",
       "      <th>0</th>\n",
       "      <td>spring</td>\n",
       "      <td>30</td>\n",
       "      <td>no</td>\n",
       "      <td>yes</td>\n",
       "      <td>yes</td>\n",
       "      <td>more than 3 months ago</td>\n",
       "      <td>once a week</td>\n",
       "      <td>occasional</td>\n",
       "      <td>16</td>\n",
       "      <td>Normal</td>\n",
       "    </tr>\n",
       "    <tr>\n",
       "      <th>1</th>\n",
       "      <td>spring</td>\n",
       "      <td>35</td>\n",
       "      <td>yes</td>\n",
       "      <td>no</td>\n",
       "      <td>yes</td>\n",
       "      <td>more than 3 months ago</td>\n",
       "      <td>once a week</td>\n",
       "      <td>daily</td>\n",
       "      <td>6</td>\n",
       "      <td>Altered</td>\n",
       "    </tr>\n",
       "    <tr>\n",
       "      <th>2</th>\n",
       "      <td>spring</td>\n",
       "      <td>27</td>\n",
       "      <td>yes</td>\n",
       "      <td>no</td>\n",
       "      <td>no</td>\n",
       "      <td>more than 3 months ago</td>\n",
       "      <td>hardly ever or never</td>\n",
       "      <td>never</td>\n",
       "      <td>9</td>\n",
       "      <td>Normal</td>\n",
       "    </tr>\n",
       "    <tr>\n",
       "      <th>3</th>\n",
       "      <td>spring</td>\n",
       "      <td>32</td>\n",
       "      <td>no</td>\n",
       "      <td>yes</td>\n",
       "      <td>yes</td>\n",
       "      <td>more than 3 months ago</td>\n",
       "      <td>hardly ever or never</td>\n",
       "      <td>never</td>\n",
       "      <td>7</td>\n",
       "      <td>Normal</td>\n",
       "    </tr>\n",
       "    <tr>\n",
       "      <th>4</th>\n",
       "      <td>spring</td>\n",
       "      <td>30</td>\n",
       "      <td>yes</td>\n",
       "      <td>yes</td>\n",
       "      <td>no</td>\n",
       "      <td>more than 3 months ago</td>\n",
       "      <td>once a week</td>\n",
       "      <td>never</td>\n",
       "      <td>9</td>\n",
       "      <td>Altered</td>\n",
       "    </tr>\n",
       "    <tr>\n",
       "      <th>5</th>\n",
       "      <td>spring</td>\n",
       "      <td>30</td>\n",
       "      <td>yes</td>\n",
       "      <td>no</td>\n",
       "      <td>yes</td>\n",
       "      <td>more than 3 months ago</td>\n",
       "      <td>once a week</td>\n",
       "      <td>occasional</td>\n",
       "      <td>9</td>\n",
       "      <td>Normal</td>\n",
       "    </tr>\n",
       "    <tr>\n",
       "      <th>6</th>\n",
       "      <td>spring</td>\n",
       "      <td>30</td>\n",
       "      <td>no</td>\n",
       "      <td>no</td>\n",
       "      <td>no</td>\n",
       "      <td>less than 3 months ago</td>\n",
       "      <td>once a week</td>\n",
       "      <td>never</td>\n",
       "      <td>8</td>\n",
       "      <td>Normal</td>\n",
       "    </tr>\n",
       "    <tr>\n",
       "      <th>7</th>\n",
       "      <td>spring</td>\n",
       "      <td>36</td>\n",
       "      <td>yes</td>\n",
       "      <td>yes</td>\n",
       "      <td>yes</td>\n",
       "      <td>more than 3 months ago</td>\n",
       "      <td>several times a week</td>\n",
       "      <td>never</td>\n",
       "      <td>7</td>\n",
       "      <td>Normal</td>\n",
       "    </tr>\n",
       "    <tr>\n",
       "      <th>8</th>\n",
       "      <td>fall</td>\n",
       "      <td>30</td>\n",
       "      <td>no</td>\n",
       "      <td>no</td>\n",
       "      <td>yes</td>\n",
       "      <td>more than 3 months ago</td>\n",
       "      <td>once a week</td>\n",
       "      <td>never</td>\n",
       "      <td>5</td>\n",
       "      <td>Normal</td>\n",
       "    </tr>\n",
       "    <tr>\n",
       "      <th>9</th>\n",
       "      <td>fall</td>\n",
       "      <td>29</td>\n",
       "      <td>yes</td>\n",
       "      <td>no</td>\n",
       "      <td>no</td>\n",
       "      <td>more than 3 months ago</td>\n",
       "      <td>hardly ever or never</td>\n",
       "      <td>never</td>\n",
       "      <td>5</td>\n",
       "      <td>Normal</td>\n",
       "    </tr>\n",
       "  </tbody>\n",
       "</table>\n",
       "</div>"
      ],
      "text/plain": [
       "   Season  Age Childish diseases Accident or serious trauma  \\\n",
       "0  spring   30                no                        yes   \n",
       "1  spring   35               yes                         no   \n",
       "2  spring   27               yes                         no   \n",
       "3  spring   32                no                        yes   \n",
       "4  spring   30               yes                        yes   \n",
       "5  spring   30               yes                         no   \n",
       "6  spring   30                no                         no   \n",
       "7  spring   36               yes                        yes   \n",
       "8    fall   30                no                         no   \n",
       "9    fall   29               yes                         no   \n",
       "\n",
       "  Surgical intervention High fevers in the last year  \\\n",
       "0                   yes       more than 3 months ago   \n",
       "1                   yes       more than 3 months ago   \n",
       "2                    no       more than 3 months ago   \n",
       "3                   yes       more than 3 months ago   \n",
       "4                    no       more than 3 months ago   \n",
       "5                   yes       more than 3 months ago   \n",
       "6                    no       less than 3 months ago   \n",
       "7                   yes       more than 3 months ago   \n",
       "8                   yes       more than 3 months ago   \n",
       "9                    no       more than 3 months ago   \n",
       "\n",
       "  Frequency of alcohol consumption Smoking habit  \\\n",
       "0                      once a week    occasional   \n",
       "1                      once a week         daily   \n",
       "2             hardly ever or never         never   \n",
       "3             hardly ever or never         never   \n",
       "4                      once a week         never   \n",
       "5                      once a week    occasional   \n",
       "6                      once a week         never   \n",
       "7             several times a week         never   \n",
       "8                      once a week         never   \n",
       "9             hardly ever or never         never   \n",
       "\n",
       "   Number of hours spent sitting per day Diagnosis  \n",
       "0                                     16    Normal  \n",
       "1                                      6   Altered  \n",
       "2                                      9    Normal  \n",
       "3                                      7    Normal  \n",
       "4                                      9   Altered  \n",
       "5                                      9    Normal  \n",
       "6                                      8    Normal  \n",
       "7                                      7    Normal  \n",
       "8                                      5    Normal  \n",
       "9                                      5    Normal  "
      ]
     },
     "execution_count": 7,
     "metadata": {},
     "output_type": "execute_result"
    }
   ],
   "source": [
    "data1.head(10)"
   ]
  },
  {
   "cell_type": "code",
   "execution_count": 10,
   "metadata": {
    "cell_id": "00004-ddfa4615-7fdd-4e19-99d2-9e99b66a686f",
    "deepnote_cell_type": "code",
    "execution_millis": 513,
    "execution_start": 1607314790064,
    "output_cleared": false,
    "source_hash": "263d3bd5",
    "tags": []
   },
   "outputs": [],
   "source": [
    "\n",
    "from sklearn.preprocessing import OrdinalEncoder\n"
   ]
  },
  {
   "cell_type": "code",
   "execution_count": 11,
   "metadata": {
    "cell_id": "00005-2e7d84b5-ecb4-496f-acaa-5746c6f2a3f5",
    "deepnote_cell_type": "code",
    "execution_millis": 1,
    "execution_start": 1607314790580,
    "output_cleared": false,
    "source_hash": "1c123e25",
    "tags": []
   },
   "outputs": [],
   "source": [
    "ord_enc = OrdinalEncoder()"
   ]
  },
  {
   "cell_type": "code",
   "execution_count": 12,
   "metadata": {
    "cell_id": "00006-5c804e55-6517-4856-8946-fbbf3399785e",
    "deepnote_cell_type": "code",
    "execution_millis": 1,
    "execution_start": 1607314790626,
    "output_cleared": false,
    "source_hash": "e95f9b27",
    "tags": []
   },
   "outputs": [],
   "source": [
    "data1['Smoking habit']=ord_enc.fit_transform(data1[['Smoking habit']])"
   ]
  },
  {
   "cell_type": "code",
   "execution_count": 13,
   "metadata": {
    "cell_id": "00007-f46c421c-546b-47f4-a413-914f4b56fb92",
    "deepnote_cell_type": "code",
    "execution_millis": 0,
    "execution_start": 1607314790627,
    "output_cleared": false,
    "source_hash": "373ecb66",
    "tags": []
   },
   "outputs": [
    {
     "data": {
      "text/plain": [
       "0    2.0\n",
       "1    0.0\n",
       "2    1.0\n",
       "3    1.0\n",
       "4    1.0\n",
       "5    2.0\n",
       "6    1.0\n",
       "7    1.0\n",
       "8    1.0\n",
       "9    1.0\n",
       "Name: Smoking habit, dtype: float64"
      ]
     },
     "execution_count": 13,
     "metadata": {},
     "output_type": "execute_result"
    }
   ],
   "source": [
    "data1['Smoking habit'].head(10)"
   ]
  },
  {
   "cell_type": "code",
   "execution_count": 30,
   "metadata": {
    "cell_id": "00008-c12f96c9-6fe3-4557-b7ab-b096358d58d3",
    "deepnote_cell_type": "code",
    "execution_millis": 0,
    "execution_start": 1607314790628,
    "output_cleared": false,
    "source_hash": "937124b3",
    "tags": []
   },
   "outputs": [],
   "source": [
    "data1['Diagnosis']=ord_enc.fit_transform(data1[['Diagnosis']])"
   ]
  },
  {
   "cell_type": "code",
   "execution_count": 46,
   "metadata": {},
   "outputs": [
    {
     "data": {
      "text/plain": [
       "0    1.0\n",
       "1    0.0\n",
       "2    1.0\n",
       "3    1.0\n",
       "4    0.0\n",
       "5    1.0\n",
       "6    1.0\n",
       "7    1.0\n",
       "8    1.0\n",
       "9    1.0\n",
       "Name: Diagnosis, dtype: float64"
      ]
     },
     "execution_count": 46,
     "metadata": {},
     "output_type": "execute_result"
    }
   ],
   "source": [
    "data1['Diagnosis'].head(10)"
   ]
  },
  {
   "cell_type": "code",
   "execution_count": 31,
   "metadata": {
    "cell_id": "00009-87b7e618-2485-46c2-8973-647e8b7b2f1c",
    "deepnote_cell_type": "code",
    "execution_millis": 8,
    "execution_start": 1607314790628,
    "output_cleared": false,
    "source_hash": "fdc54ace",
    "tags": []
   },
   "outputs": [],
   "source": [
    "data1['Frequency of alcohol consumption']=ord_enc.fit_transform(data1[['Frequency of alcohol consumption']])"
   ]
  },
  {
   "cell_type": "code",
   "execution_count": 47,
   "metadata": {},
   "outputs": [
    {
     "data": {
      "text/plain": [
       "0    2.0\n",
       "1    2.0\n",
       "2    1.0\n",
       "3    1.0\n",
       "4    2.0\n",
       "5    2.0\n",
       "6    2.0\n",
       "7    4.0\n",
       "8    2.0\n",
       "9    1.0\n",
       "Name: Frequency of alcohol consumption, dtype: float64"
      ]
     },
     "execution_count": 47,
     "metadata": {},
     "output_type": "execute_result"
    }
   ],
   "source": [
    "data1['Frequency of alcohol consumption'].head(10)"
   ]
  },
  {
   "cell_type": "code",
   "execution_count": 32,
   "metadata": {
    "cell_id": "00010-8c145a30-750a-4c20-9004-e24429960007",
    "deepnote_cell_type": "code",
    "execution_millis": 8,
    "execution_start": 1607314790641,
    "output_cleared": false,
    "source_hash": "33a04ed1",
    "tags": []
   },
   "outputs": [],
   "source": [
    "data1['Season']=ord_enc.fit_transform(data1[['Season']])"
   ]
  },
  {
   "cell_type": "code",
   "execution_count": 48,
   "metadata": {},
   "outputs": [
    {
     "data": {
      "text/plain": [
       "0    1.0\n",
       "1    1.0\n",
       "2    1.0\n",
       "3    1.0\n",
       "4    1.0\n",
       "5    1.0\n",
       "6    1.0\n",
       "7    1.0\n",
       "8    0.0\n",
       "9    0.0\n",
       "Name: Season, dtype: float64"
      ]
     },
     "execution_count": 48,
     "metadata": {},
     "output_type": "execute_result"
    }
   ],
   "source": [
    "data1['Season'].head(10)"
   ]
  },
  {
   "cell_type": "code",
   "execution_count": 33,
   "metadata": {
    "cell_id": "00011-c93d2d21-001c-4c15-abeb-05ef6ba1dbd2",
    "deepnote_cell_type": "code",
    "execution_millis": 4,
    "execution_start": 1607314790657,
    "output_cleared": false,
    "source_hash": "75f8bafe",
    "tags": []
   },
   "outputs": [],
   "source": [
    "data1['Childish diseases']=ord_enc.fit_transform(data1[['Childish diseases']])"
   ]
  },
  {
   "cell_type": "code",
   "execution_count": 49,
   "metadata": {},
   "outputs": [
    {
     "data": {
      "text/plain": [
       "0    0.0\n",
       "1    1.0\n",
       "2    1.0\n",
       "3    0.0\n",
       "4    1.0\n",
       "5    1.0\n",
       "6    0.0\n",
       "7    1.0\n",
       "8    0.0\n",
       "9    1.0\n",
       "Name: Childish diseases, dtype: float64"
      ]
     },
     "execution_count": 49,
     "metadata": {},
     "output_type": "execute_result"
    }
   ],
   "source": [
    "data1['Childish diseases'].head(10)"
   ]
  },
  {
   "cell_type": "code",
   "execution_count": 34,
   "metadata": {
    "cell_id": "00012-b4988607-23f6-440a-a1d4-e853702f7b14",
    "deepnote_cell_type": "code",
    "execution_millis": 1,
    "execution_start": 1607314790674,
    "output_cleared": false,
    "source_hash": "7013dec5",
    "tags": []
   },
   "outputs": [],
   "source": [
    "data1['Accident or serious trauma']=ord_enc.fit_transform(data1[['Accident or serious trauma']])"
   ]
  },
  {
   "cell_type": "code",
   "execution_count": 50,
   "metadata": {},
   "outputs": [
    {
     "data": {
      "text/plain": [
       "0    1.0\n",
       "1    0.0\n",
       "2    0.0\n",
       "3    1.0\n",
       "4    1.0\n",
       "5    0.0\n",
       "6    0.0\n",
       "7    1.0\n",
       "8    0.0\n",
       "9    0.0\n",
       "Name: Accident or serious trauma, dtype: float64"
      ]
     },
     "execution_count": 50,
     "metadata": {},
     "output_type": "execute_result"
    }
   ],
   "source": [
    "data1['Accident or serious trauma'].head(10)"
   ]
  },
  {
   "cell_type": "code",
   "execution_count": 35,
   "metadata": {
    "cell_id": "00013-d4f7eb01-b495-47da-90f0-a78949fac251",
    "deepnote_cell_type": "code",
    "execution_millis": 4,
    "execution_start": 1607314790675,
    "output_cleared": false,
    "source_hash": "95c86f29",
    "tags": []
   },
   "outputs": [
    {
     "data": {
      "text/plain": [
       "Season                                   0\n",
       "Age                                      0\n",
       "Childish diseases                        0\n",
       "Accident or serious trauma               0\n",
       "Surgical intervention                    0\n",
       "High fevers in the last year             0\n",
       "Frequency of alcohol consumption         0\n",
       "Smoking habit                            0\n",
       "Number of hours spent sitting per day    0\n",
       "Diagnosis                                0\n",
       "dtype: int64"
      ]
     },
     "execution_count": 35,
     "metadata": {},
     "output_type": "execute_result"
    }
   ],
   "source": [
    "data1.isnull().sum()"
   ]
  },
  {
   "cell_type": "code",
   "execution_count": 36,
   "metadata": {
    "cell_id": "00014-26dfeb96-404b-4873-b698-de595d4e967d",
    "deepnote_cell_type": "code",
    "execution_millis": 3,
    "execution_start": 1607314790682,
    "output_cleared": false,
    "source_hash": "9bcf473b",
    "tags": []
   },
   "outputs": [],
   "source": [
    "data1['High fevers in the last year']=ord_enc.fit_transform(data1[['High fevers in the last year']])"
   ]
  },
  {
   "cell_type": "code",
   "execution_count": 51,
   "metadata": {},
   "outputs": [
    {
     "data": {
      "text/plain": [
       "0    1.0\n",
       "1    1.0\n",
       "2    1.0\n",
       "3    1.0\n",
       "4    1.0\n",
       "5    1.0\n",
       "6    0.0\n",
       "7    1.0\n",
       "8    1.0\n",
       "9    1.0\n",
       "Name: High fevers in the last year, dtype: float64"
      ]
     },
     "execution_count": 51,
     "metadata": {},
     "output_type": "execute_result"
    }
   ],
   "source": [
    "data1['High fevers in the last year'].head(10)"
   ]
  },
  {
   "cell_type": "code",
   "execution_count": 37,
   "metadata": {
    "cell_id": "00015-088f7f2a-7696-4d36-8bb2-243d9417090e",
    "deepnote_cell_type": "code",
    "execution_millis": 5,
    "execution_start": 1607314790687,
    "output_cleared": false,
    "source_hash": "36abbfc4",
    "tags": []
   },
   "outputs": [],
   "source": [
    "data1['Surgical intervention']=ord_enc.fit_transform(data1[['Surgical intervention']])"
   ]
  },
  {
   "cell_type": "code",
   "execution_count": 52,
   "metadata": {},
   "outputs": [
    {
     "data": {
      "text/plain": [
       "0    1.0\n",
       "1    1.0\n",
       "2    0.0\n",
       "3    1.0\n",
       "4    0.0\n",
       "5    1.0\n",
       "6    0.0\n",
       "7    1.0\n",
       "8    1.0\n",
       "9    0.0\n",
       "Name: Surgical intervention, dtype: float64"
      ]
     },
     "execution_count": 52,
     "metadata": {},
     "output_type": "execute_result"
    }
   ],
   "source": [
    "data1['Surgical intervention'].head(10)"
   ]
  },
  {
   "cell_type": "code",
   "execution_count": 53,
   "metadata": {
    "cell_id": "00016-28275209-f042-4727-8b3a-722585ce6b16",
    "deepnote_cell_type": "code",
    "execution_millis": 12,
    "execution_start": 1607314790695,
    "output_cleared": false,
    "source_hash": "c36ddde2",
    "tags": []
   },
   "outputs": [],
   "source": [
    "x=data1[['Season','Age','Childish diseases','Accident or serious trauma','Frequency of alcohol consumption','Smoking habit','Smoking habit','Number of hours spent sitting per day']]"
   ]
  },
  {
   "cell_type": "code",
   "execution_count": 54,
   "metadata": {
    "cell_id": "00017-1a6c03ac-4680-4e2d-825c-38f6e250cd2f",
    "deepnote_cell_type": "code",
    "execution_millis": 3,
    "execution_start": 1607314790707,
    "output_cleared": false,
    "source_hash": "40a6ada8",
    "tags": []
   },
   "outputs": [],
   "source": [
    "y=data1['Diagnosis']"
   ]
  },
  {
   "cell_type": "code",
   "execution_count": 55,
   "metadata": {
    "cell_id": "00018-c4a2c195-561c-48eb-87db-06577ab5fdf4",
    "deepnote_cell_type": "code",
    "execution_millis": 28,
    "execution_start": 1607314790721,
    "output_cleared": false,
    "source_hash": "ffcd54b2",
    "tags": []
   },
   "outputs": [],
   "source": [
    "from sklearn.model_selection import train_test_split\n",
    "X_train, X_test, y_train, y_test = train_test_split(x, y, test_size = 0.25, random_state = 0)"
   ]
  },
  {
   "cell_type": "code",
   "execution_count": 41,
   "metadata": {
    "cell_id": "00019-83cf4601-d7e7-4962-9ff9-f7a39f5b3275",
    "deepnote_cell_type": "code",
    "execution_millis": 30,
    "execution_start": 1607314790755,
    "output_cleared": false,
    "source_hash": "a1753360",
    "tags": []
   },
   "outputs": [],
   "source": [
    "from sklearn.linear_model import LogisticRegression\n",
    "classifier = LogisticRegression(random_state=42 )\n"
   ]
  },
  {
   "cell_type": "code",
   "execution_count": 42,
   "metadata": {
    "cell_id": "00020-4980441e-6cad-46ee-8d33-805b983128de",
    "deepnote_cell_type": "code",
    "execution_millis": 1,
    "execution_start": 1607314790831,
    "output_cleared": false,
    "source_hash": "b4a45aa9",
    "tags": []
   },
   "outputs": [
    {
     "data": {
      "text/plain": [
       "LogisticRegression(random_state=42)"
      ]
     },
     "execution_count": 42,
     "metadata": {},
     "output_type": "execute_result"
    }
   ],
   "source": [
    "classifier.fit(X_train,y_train)"
   ]
  },
  {
   "cell_type": "code",
   "execution_count": 43,
   "metadata": {
    "cell_id": "00021-5c6002c5-5a1d-47f2-acf6-d7ec72e39cf8",
    "deepnote_cell_type": "code",
    "execution_millis": 0,
    "execution_start": 1607314790832,
    "output_cleared": false,
    "source_hash": "98928ae9",
    "tags": []
   },
   "outputs": [],
   "source": [
    "y_pred = classifier.predict(X_test)"
   ]
  },
  {
   "cell_type": "code",
   "execution_count": 44,
   "metadata": {
    "cell_id": "00022-873d0385-fc73-45cf-b34c-28c68db840ad",
    "deepnote_cell_type": "code",
    "execution_millis": 2,
    "execution_start": 1607314790876,
    "output_cleared": false,
    "source_hash": "dcc0610b",
    "tags": []
   },
   "outputs": [],
   "source": [
    "from sklearn.metrics import accuracy_score"
   ]
  },
  {
   "cell_type": "code",
   "execution_count": 45,
   "metadata": {
    "cell_id": "00023-01d27719-0ed1-4e2c-b69b-1913821591bd",
    "deepnote_cell_type": "code",
    "execution_millis": 0,
    "execution_start": 1607314790876,
    "output_cleared": false,
    "source_hash": "8cdba58",
    "tags": []
   },
   "outputs": [
    {
     "data": {
      "text/plain": [
       "0.92"
      ]
     },
     "execution_count": 45,
     "metadata": {},
     "output_type": "execute_result"
    }
   ],
   "source": [
    "accuracy_score(y_pred,y_test)"
   ]
  },
  {
   "cell_type": "code",
   "execution_count": null,
   "metadata": {
    "cell_id": "00024-37d0efe2-4906-4dc1-b75e-4cd6354f8f42",
    "deepnote_cell_type": "code",
    "execution_millis": 0,
    "execution_start": 1607314790877,
    "output_cleared": false,
    "source_hash": "b623e53d",
    "tags": []
   },
   "outputs": [],
   "source": []
  }
 ],
 "metadata": {
  "deepnote_execution_queue": [],
  "deepnote_notebook_id": "04d2867b-621b-4627-b4f1-eb5d4c04f273",
  "kernelspec": {
   "display_name": "Python 3",
   "language": "python",
   "name": "python3"
  },
  "language_info": {
   "codemirror_mode": {
    "name": "ipython",
    "version": 3
   },
   "file_extension": ".py",
   "mimetype": "text/x-python",
   "name": "python",
   "nbconvert_exporter": "python",
   "pygments_lexer": "ipython3",
   "version": "3.8.5"
  }
 },
 "nbformat": 4,
 "nbformat_minor": 2
}
